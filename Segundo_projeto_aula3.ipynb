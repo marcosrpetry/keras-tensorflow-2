{
  "nbformat": 4,
  "nbformat_minor": 0,
  "metadata": {
    "colab": {
      "name": "Segundo_projeto_aula2.ipynb",
      "version": "0.3.2",
      "provenance": [],
      "collapsed_sections": []
    },
    "kernelspec": {
      "name": "python3",
      "display_name": "Python 3"
    }
  },
  "cells": [
        {
      "cell_type": "markdown",
      "metadata": {
        "id": "view-in-github",
        "colab_type": "text"
      },
      "source": [
        "[View in Colaboratory](https://colab.research.google.com/github/marcosrpetry/keras-tensorflow2/blob/master/Segundo_projeto_aula3.ipynb)"
      ]
    },
    {
      "metadata": {
        "id": "sNc3NouWYrN7",
        "colab_type": "text"
      },
      "cell_type": "markdown",
      "source": [
        "Imports"
      ]
    },
    {
      "metadata": {
        "id": "4bQCahYjYdUB",
        "colab_type": "code",
        "colab": {}
      },
      "cell_type": "code",
      "source": [
        "import tensorflow\n",
        "from tensorflow import keras\n",
        "import matplotlib.pyplot as plt\n",
        "import numpy as np\n",
        "from tensorflow.keras.models import load_model"
      ],
      "execution_count": 0,
      "outputs": []
    },
    {
      "metadata": {
        "id": "f8uuzUjVYvkf",
        "colab_type": "text"
      },
      "cell_type": "markdown",
      "source": [
        "Carregando o dataset"
      ]
    },
    {
      "metadata": {
        "id": "QoIys3wMYirH",
        "colab_type": "code",
        "colab": {}
      },
      "cell_type": "code",
      "source": [
        "dataset = keras.datasets.fashion_mnist\n",
        "((imagens_treino, identificacoes_treino), (imagens_teste, identificacoes_teste)) = dataset.load_data()\n"
      ],
      "execution_count": 0,
      "outputs": []
    },
    {
      "metadata": {
        "id": "oFr0526ZY5E_",
        "colab_type": "text"
      },
      "cell_type": "markdown",
      "source": [
        "Exploração dos dados"
      ]
    },
    {
      "metadata": {
        "id": "fPIT36hpYl5A",
        "colab_type": "code",
        "outputId": "ec693226-c811-4fae-d18d-6f7017c8c872",
        "colab": {
          "base_uri": "https://localhost:8080/",
          "height": 34
        }
      },
      "cell_type": "code",
      "source": [
        "len(imagens_treino)\n",
        "imagens_treino.shape\n",
        "imagens_teste.shape\n",
        "len(identificacoes_teste)\n",
        "identificacoes_treino.min()\n",
        "identificacoes_treino.max()"
      ],
      "execution_count": 3,
      "outputs": [
        {
          "output_type": "execute_result",
          "data": {
            "text/plain": [
              "9"
            ]
          },
          "metadata": {
            "tags": []
          },
          "execution_count": 3
        }
      ]
    },
    {
      "metadata": {
        "id": "yTWqT9DIY-iB",
        "colab_type": "text"
      },
      "cell_type": "markdown",
      "source": [
        "Exibição dos dados"
      ]
    },
    {
      "metadata": {
        "id": "bGESm49JVahh",
        "colab_type": "code",
        "outputId": "bd62aadc-41b5-43cb-bd7e-5c3b0d727132",
        "colab": {
          "base_uri": "https://localhost:8080/",
          "height": 364
        }
      },
      "cell_type": "code",
      "source": [
        "total_de_classificacoes = 10\n",
        "nomes_de_classificacoes = ['Camiseta', 'Calça', 'Pullover', \n",
        "                           'Vestido', 'Casaco', 'Sandália', 'Camisa',\n",
        "                           'Tênis', 'Bolsa', 'Bota']\n",
        "\n",
        "plt.imshow(imagens_treino[0])\n",
        "plt.colorbar()"
      ],
      "execution_count": 4,
      "outputs": [
        {
          "output_type": "execute_result",
          "data": {
            "text/plain": [
              "<matplotlib.colorbar.Colorbar at 0x7f7a44b13710>"
            ]
          },
          "metadata": {
            "tags": []
          },
          "execution_count": 4
        },
        {
          "output_type": "display_data",
          "data": {
            "image/png": "[encoded data removed]",
            "text/plain": [
              "<matplotlib.figure.Figure at 0x7f7a44bdeb00>"
            ]
          },
          "metadata": {
            "tags": []
          }
        }
      ]
    },
    {
      "metadata": {
        "id": "uU6ZySpIcoc5",
        "colab_type": "text"
      },
      "cell_type": "markdown",
      "source": [
        "Normalizando as imagens"
      ]
    },
    {
      "metadata": {
        "id": "Ral_hdl9ulGG",
        "colab_type": "code",
        "colab": {}
      },
      "cell_type": "code",
      "source": [
        "imagens_treino = imagens_treino/float(255)"
      ],
      "execution_count": 0,
      "outputs": []
    },
    {
      "metadata": {
        "id": "2WABnvOJdCNl",
        "colab_type": "text"
      },
      "cell_type": "markdown",
      "source": [
        "Criando, compilando, treinando e normalizando o modelo"
      ]
    },
    {
      "metadata": {
        "id": "uFedwlfFc0ii",
        "colab_type": "code",
        "outputId": "aa3aa3af-c65a-47a8-e66d-a5df42817ac5",
        "colab": {
          "base_uri": "https://localhost:8080/",
          "height": 226
        }
      },
      "cell_type": "code",
      "source": [
        "modelo = keras.Sequential([ \n",
        "    keras.layers.Flatten(input_shape=(28, 28)),\n",
        "    keras.layers.Dense(256, activation=tensorflow.nn.relu),\n",
        "    keras.layers.Dropout(0.2),\n",
        "    keras.layers.Dense(10, activation=tensorflow.nn.softmax)\n",
        "])\n",
        "\n",
        "modelo.compile(optimizer='adam', \n",
        "               loss='sparse_categorical_crossentropy',\n",
        "               metrics=['accuracy'])\n",
        "\n",
        "historico = modelo.fit(imagens_treino, identificacoes_treino, epochs=5, validation_split=0.2)"
      ],
      "execution_count": 15,
      "outputs": [
        {
          "output_type": "stream",
          "text": [
            "Train on 48000 samples, validate on 12000 samples\n",
            "Epoch 1/5\n",
            "48000/48000 [==============================] - 8s 177us/step - loss: 0.5294 - acc: 0.8137 - val_loss: 0.4203 - val_acc: 0.8474\n",
            "Epoch 2/5\n",
            "48000/48000 [==============================] - 8s 168us/step - loss: 0.3975 - acc: 0.8553 - val_loss: 0.3661 - val_acc: 0.8680\n",
            "Epoch 3/5\n",
            "48000/48000 [==============================] - 8s 164us/step - loss: 0.3633 - acc: 0.8663 - val_loss: 0.3600 - val_acc: 0.8725\n",
            "Epoch 4/5\n",
            "48000/48000 [==============================] - 8s 165us/step - loss: 0.3418 - acc: 0.8742 - val_loss: 0.3381 - val_acc: 0.8784\n",
            "Epoch 5/5\n",
            "48000/48000 [==============================] - 8s 161us/step - loss: 0.3206 - acc: 0.8809 - val_loss: 0.3452 - val_acc: 0.8746\n"
          ],
          "name": "stdout"
        }
      ]
    },
    {
      "metadata": {
        "id": "weeyzt2QuDXS",
        "colab_type": "text"
      },
      "cell_type": "markdown",
      "source": [
        "Sumário do modelo"
      ]
    },
    {
      "metadata": {
        "colab_type": "code",
        "outputId": "0f814084-60e0-47ff-c850-ad4cebf3c80d",
        "id": "QLG_CH6Lr2vp",
        "colab": {
          "base_uri": "https://localhost:8080/",
          "height": 272
        }
      },
      "cell_type": "code",
      "source": [
        "sumario_do_modelo = modelo.summary()"
      ],
      "execution_count": 7,
      "outputs": [
        {
          "output_type": "stream",
          "text": [
            "_________________________________________________________________\n",
            "Layer (type)                 Output Shape              Param #   \n",
            "=================================================================\n",
            "flatten (Flatten)            (None, 784)               0         \n",
            "_________________________________________________________________\n",
            "dense (Dense)                (None, 256)               200960    \n",
            "_________________________________________________________________\n",
            "dropout (Dropout)            (None, 256)               0         \n",
            "_________________________________________________________________\n",
            "dense_1 (Dense)              (None, 10)                2570      \n",
            "=================================================================\n",
            "Total params: 203,530\n",
            "Trainable params: 203,530\n",
            "Non-trainable params: 0\n",
            "_________________________________________________________________\n"
          ],
          "name": "stdout"
        }
      ]
    },
    {
      "metadata": {
        "id": "GVuSQg42udch",
        "colab_type": "text"
      },
      "cell_type": "markdown",
      "source": [
        "Pesos da primeira camada Dense"
      ]
    },
    {
      "metadata": {
        "id": "YRzqJi5gr-ug",
        "colab_type": "code",
        "outputId": "5aa1b735-03dc-41b1-8668-796cc9de643d",
        "colab": {
          "base_uri": "https://localhost:8080/",
          "height": 240
        }
      },
      "cell_type": "code",
      "source": [
        "pesos_camada_dense = modelo.layers[1].get_weights()[0]\n",
        "pesos_camada_dense"
      ],
      "execution_count": 8,
      "outputs": [
        {
          "output_type": "execute_result",
          "data": {
            "text/plain": [
              "array([[-0.02590321,  0.05871597,  0.05910954, ...,  0.04766438,\n",
              "         0.06313969, -0.03132721],\n",
              "       [-0.01852267, -0.0415465 , -0.00991526, ...,  0.05902757,\n",
              "         0.01366632,  0.06226666],\n",
              "       [-0.00163332, -0.00908091, -0.06628204, ...,  0.031507  ,\n",
              "         0.11495169,  0.05953206],\n",
              "       ...,\n",
              "       [ 0.00549325, -0.024757  , -0.02061036, ..., -0.00940946,\n",
              "        -0.04420717, -0.05237343],\n",
              "       [-0.05323058,  0.0195864 ,  0.06112908, ...,  0.02321157,\n",
              "        -0.1629663 , -0.02729129],\n",
              "       [-0.02526796, -0.05255789,  0.0010385 , ...,  0.12572971,\n",
              "        -0.16662657,  0.02237526]], dtype=float32)"
            ]
          },
          "metadata": {
            "tags": []
          },
          "execution_count": 8
        }
      ]
    },
    {
      "metadata": {
        "id": "k5vzzzzF-pdh",
        "colab_type": "code",
        "colab": {
          "base_uri": "https://localhost:8080/",
          "height": 1374
        },
        "outputId": "b787a82d-3275-4538-e114-e1e06ec0fa8d"
      },
      "cell_type": "code",
      "source": [
        "pesos_camada_dense.shape\n",
        "pesos_camada_dense_zerados = np.zeros((784, 256))\n",
        "\n",
        "pesos_camada_dense_aleatorios = np.random.rand(784, 256)\n",
        "\n",
        "'''\n",
        "modelo.layers[1].set_weights(\n",
        "    [pesos_camada_dense_zerados, vieses_camada_dense]\n",
        ")\n",
        "'''\n",
        "\n",
        "modelo.layers[1].set_weights(\n",
        "    [pesos_camada_dense_aleatorios, vieses_camada_dense]\n",
        ")\n",
        "\n",
        "modelo.layers[1].get_weights()\n"
      ],
      "execution_count": 30,
      "outputs": [
        {
          "output_type": "execute_result",
          "data": {
            "text/plain": [
              "[array([[0.45367533, 0.00167579, 0.9743768 , ..., 0.3314218 , 0.0157577 ,\n",
              "         0.19080772],\n",
              "        [0.59562016, 0.32525647, 0.88172364, ..., 0.70786786, 0.97653484,\n",
              "         0.0743237 ],\n",
              "        [0.45325145, 0.22359298, 0.297432  , ..., 0.64790094, 0.11249291,\n",
              "         0.63369566],\n",
              "        ...,\n",
              "        [0.373962  , 0.7607567 , 0.5149421 , ..., 0.6567949 , 0.43428272,\n",
              "         0.3893456 ],\n",
              "        [0.6663189 , 0.66724616, 0.23426563, ..., 0.20366427, 0.7726447 ,\n",
              "         0.7385384 ],\n",
              "        [0.94502467, 0.06128937, 0.05347627, ..., 0.2559527 , 0.19751349,\n",
              "         0.64791155]], dtype=float32),\n",
              " array([ 2.17271686e-01, -1.25669604e-02,  4.68343258e-01,  1.04655936e-01,\n",
              "        -6.26603980e-03,  1.95508763e-01, -2.66720857e-02,  2.33191311e-01,\n",
              "        -3.46158911e-03,  1.15702555e-01, -8.37793276e-02,  2.18284085e-01,\n",
              "         8.50701109e-02,  1.02997512e-01,  2.48429880e-01, -1.21037677e-01,\n",
              "         3.34309250e-01, -1.71739496e-02,  1.15617029e-02,  9.17780846e-02,\n",
              "         7.33342841e-02,  2.27185532e-01,  2.42596567e-01,  1.31279171e-01,\n",
              "         9.57411248e-03,  9.20536146e-02, -1.45801101e-02,  2.85336465e-01,\n",
              "         1.14261448e-01, -7.63787702e-02,  3.47129941e-01,  2.33679652e-01,\n",
              "        -1.41966775e-01,  2.90905416e-01,  1.42617002e-01,  1.49221972e-01,\n",
              "         1.66630149e-01, -9.79730953e-03, -2.65074819e-01,  2.93633193e-01,\n",
              "         1.26868695e-01, -2.40489706e-01,  1.17586225e-01,  1.89441398e-01,\n",
              "         2.34397501e-01, -1.45719508e-02,  9.46031511e-02,  4.88744266e-02,\n",
              "        -4.87748645e-02,  5.45293130e-02,  1.08828731e-01,  3.54265541e-01,\n",
              "         1.75151229e-01, -7.48159597e-03, -1.71901971e-01,  1.89516187e-01,\n",
              "         7.24575967e-02,  7.61482790e-02, -4.74360809e-02,  4.19382378e-02,\n",
              "         2.28834733e-01, -6.14993786e-03, -2.82736987e-01, -2.08639994e-01,\n",
              "        -1.37181045e-03, -1.71845645e-01,  2.00012848e-01, -2.44371668e-02,\n",
              "        -9.46472064e-02,  1.72785595e-01,  6.46625757e-02, -5.44010140e-02,\n",
              "         1.30374655e-01, -2.46845037e-01, -2.55793542e-01, -6.19659573e-02,\n",
              "         2.42015980e-02, -2.33920310e-02, -1.37225520e-02,  1.09959319e-01,\n",
              "         3.03194672e-01, -1.16447754e-01,  5.48429275e-03, -1.22804567e-01,\n",
              "         2.25063741e-01, -8.38221312e-02,  2.21961394e-01,  2.20978618e-01,\n",
              "         2.09517032e-01,  3.40227261e-02,  2.51986206e-01, -4.28624044e-04,\n",
              "         2.80647218e-01, -2.18454469e-02,  1.09122597e-01,  1.27174243e-01,\n",
              "         2.75232077e-01, -1.76752359e-02,  1.68492034e-01,  1.33596510e-01,\n",
              "         1.48035944e-01,  2.15130121e-01, -2.77510554e-01,  2.68540561e-01,\n",
              "         3.23494785e-02,  1.57471709e-02,  1.19493268e-01,  1.90549448e-01,\n",
              "        -9.38610733e-03, -2.13131122e-02, -8.94555636e-03, -9.87358838e-02,\n",
              "         1.84692740e-01,  2.55769670e-01,  5.29130518e-01,  6.55661523e-02,\n",
              "        -2.42036447e-01,  1.74286351e-01,  2.10920155e-01,  3.48254591e-01,\n",
              "        -6.77448791e-03,  2.34598368e-01, -5.84776932e-03,  5.70529439e-02,\n",
              "         3.94000769e-01,  1.93399385e-01,  3.85261565e-01,  4.14756149e-01,\n",
              "         2.31671020e-01,  3.25054210e-03,  1.40923843e-01, -4.26171906e-02,\n",
              "        -2.07339935e-02,  2.04498380e-01, -3.92118514e-01,  2.36553177e-01,\n",
              "        -1.71536237e-01, -3.33971493e-02, -2.36962996e-02,  1.73990771e-01,\n",
              "         1.64650101e-03,  1.83988959e-01, -2.21859708e-01,  1.87976301e-01,\n",
              "        -1.41179800e-01,  2.70643532e-01,  9.71750244e-02,  2.62317479e-01,\n",
              "         1.69481114e-01,  2.59382486e-01,  2.55517632e-01, -1.51580470e-02,\n",
              "         5.76577522e-02,  2.66129911e-01, -2.49552995e-01, -2.83711124e-02,\n",
              "         1.68755531e-01, -1.86558105e-02, -5.30679300e-02,  3.05644840e-01,\n",
              "        -2.07103506e-01,  3.11598450e-01,  3.66676897e-01,  1.14421584e-02,\n",
              "         4.66590784e-02,  5.07147331e-03,  1.44830123e-01, -1.76619664e-02,\n",
              "         3.64714265e-01,  2.78026283e-01,  6.03198023e-05,  3.43577087e-01,\n",
              "        -1.07841320e-01,  8.22342783e-02, -1.08907064e-02,  8.53583217e-02,\n",
              "         3.59633267e-01, -1.12950236e-01, -6.65025711e-02, -1.34761408e-01,\n",
              "        -1.66004971e-01,  9.01699290e-02,  1.36514619e-01,  2.32289031e-01,\n",
              "         1.46561444e-01,  1.82898045e-01,  5.41809984e-02,  4.07093227e-01,\n",
              "         7.53870979e-02,  3.01891625e-01,  7.77217001e-02,  4.31141317e-01,\n",
              "         2.33702198e-01, -1.01324290e-01, -1.46568492e-02,  2.37072051e-01,\n",
              "         1.94074377e-01, -3.16234119e-02,  6.19228072e-02,  2.58702338e-01,\n",
              "         1.79507658e-01,  1.42010853e-01, -2.68028420e-03,  9.91616696e-02,\n",
              "         2.33600676e-01, -8.22377056e-02, -8.79758410e-03, -1.66762382e-01,\n",
              "         3.10729474e-01,  9.28532183e-02, -8.99117067e-02,  1.69954866e-01,\n",
              "         2.77362466e-01,  3.21711957e-01, -3.17700244e-02,  2.99138278e-01,\n",
              "         3.39884222e-01, -1.88203100e-02,  2.56137609e-01,  5.24157472e-02,\n",
              "         1.03051603e-01,  2.01924965e-01,  2.52116442e-01, -1.83207132e-02,\n",
              "         2.56638050e-01,  1.92271501e-01,  1.25548050e-01, -1.36458641e-02,\n",
              "         3.22885513e-01,  5.60951233e-02,  3.85818124e-01,  3.52308154e-01,\n",
              "         3.52767408e-01, -1.81589171e-01,  3.87908995e-01, -2.42032092e-02,\n",
              "         2.54741520e-01, -1.62869003e-02,  7.94147030e-02,  1.80787012e-01,\n",
              "        -1.13467559e-01,  2.42643610e-01, -1.47298813e-01, -5.84040815e-03,\n",
              "        -1.36539154e-02, -1.65177941e-01,  3.25457633e-01, -1.71587303e-01,\n",
              "        -3.08103710e-01, -4.70043579e-03,  4.73408967e-01,  1.78614095e-01,\n",
              "        -5.39473854e-02,  2.48033866e-01,  3.54564965e-01, -2.52821222e-02],\n",
              "       dtype=float32)]"
            ]
          },
          "metadata": {
            "tags": []
          },
          "execution_count": 30
        }
      ]
    },
    {
      "metadata": {
        "id": "0nJSiAyI_-3a",
        "colab_type": "code",
        "colab": {
          "base_uri": "https://localhost:8080/",
          "height": 226
        },
        "outputId": "df2adbc3-e6ba-4b3a-dfbf-9b53196e1e46"
      },
      "cell_type": "code",
      "source": [
        "modelo.compile(optimizer='adam', \n",
        "               loss='sparse_categorical_crossentropy',\n",
        "               metrics=['accuracy'])\n",
        "\n",
        "historico = modelo.fit(imagens_treino, identificacoes_treino, epochs=5, validation_split=0.2)"
      ],
      "execution_count": 42,
      "outputs": [
        {
          "output_type": "stream",
          "text": [
            "Train on 48000 samples, validate on 12000 samples\n",
            "Epoch 1/5\n",
            "48000/48000 [==============================] - 10s 201us/step - loss: 14.5043 - acc: 0.1001 - val_loss: 14.5143 - val_acc: 0.0995\n",
            "Epoch 2/5\n",
            "48000/48000 [==============================] - 9s 189us/step - loss: 14.5043 - acc: 0.1001 - val_loss: 14.5143 - val_acc: 0.0995\n",
            "Epoch 3/5\n",
            "48000/48000 [==============================] - 9s 185us/step - loss: 14.5043 - acc: 0.1001 - val_loss: 14.5143 - val_acc: 0.0995\n",
            "Epoch 4/5\n",
            "48000/48000 [==============================] - 9s 185us/step - loss: 14.5043 - acc: 0.1001 - val_loss: 14.5143 - val_acc: 0.0995\n",
            "Epoch 5/5\n",
            "48000/48000 [==============================] - 9s 190us/step - loss: 14.5043 - acc: 0.1001 - val_loss: 14.5143 - val_acc: 0.0995\n"
          ],
          "name": "stdout"
        }
      ]
    },
    {
      "metadata": {
        "id": "TqiDVI-aAi9k",
        "colab_type": "code",
        "colab": {
          "base_uri": "https://localhost:8080/",
          "height": 393
        },
        "outputId": "d427d130-51dd-480c-edb3-76376de9488b"
      },
      "cell_type": "code",
      "source": [
        "plt.plot(historico.history['acc'])\n",
        "plt.plot(historico.history['val_acc'])\n",
        "plt.title('Acurácia por épocas')\n",
        "plt.xlabel('épocas')\n",
        "plt.ylabel('acurácia')\n",
        "plt.legend(['treino', 'validação'])\n"
      ],
      "execution_count": 43,
      "outputs": [
        {
          "output_type": "execute_result",
          "data": {
            "text/plain": [
              "<matplotlib.legend.Legend at 0x7f7a3c955320>"
            ]
          },
          "metadata": {
            "tags": []
          },
          "execution_count": 43
        },
        {
          "output_type": "display_data",
          "data": {
            "image/png": "[encoded data removed]",
            "text/plain": [
              "<matplotlib.figure.Figure at 0x7f7a3c93d2b0>"
            ]
          },
          "metadata": {
            "tags": []
          }
        }
      ]
    },
    {
      "metadata": {
        "id": "XIYEY-hNEYT7",
        "colab_type": "code",
        "colab": {
          "base_uri": "https://localhost:8080/",
          "height": 394
        },
        "outputId": "a389dee2-e6ab-47c3-e637-7d201d1a16ac"
      },
      "cell_type": "code",
      "source": [
        "plt.plot(historico.history['acc'])\n",
        "plt.plot(historico.history['val_acc'])\n",
        "plt.title('Acurácia por épocas')\n",
        "plt.xlabel('épocas')\n",
        "plt.ylabel('acurácia')\n",
        "plt.legend(['treino', 'validação'])"
      ],
      "execution_count": 32,
      "outputs": [
        {
          "output_type": "execute_result",
          "data": {
            "text/plain": [
              "<matplotlib.legend.Legend at 0x7f7a3d1ca5c0>"
            ]
          },
          "metadata": {
            "tags": []
          },
          "execution_count": 32
        },
        {
          "output_type": "display_data",
          "data": {
            "image/png": "[encoded data removed]",
            "text/plain": [
              "<matplotlib.figure.Figure at 0x7f7a3d22a6d8>"
            ]
          },
          "metadata": {
            "tags": []
          }
        }
      ]
    },
    {
      "metadata": {
        "id": "sELsC7XkFCei",
        "colab_type": "code",
        "colab": {
          "base_uri": "https://localhost:8080/",
          "height": 799
        },
        "outputId": "4f6ae8a9-710a-4cd8-d9d2-368e2a6d5ea3"
      },
      "cell_type": "code",
      "source": [
        "modelo.get_config()"
      ],
      "execution_count": 33,
      "outputs": [
        {
          "output_type": "execute_result",
          "data": {
            "text/plain": [
              "{'layers': [{'class_name': 'Flatten',\n",
              "   'config': {'batch_input_shape': (None, 28, 28),\n",
              "    'data_format': 'channels_last',\n",
              "    'dtype': 'float32',\n",
              "    'name': 'flatten_1',\n",
              "    'trainable': True}},\n",
              "  {'class_name': 'Dense',\n",
              "   'config': {'activation': 'relu',\n",
              "    'activity_regularizer': None,\n",
              "    'bias_constraint': None,\n",
              "    'bias_initializer': {'class_name': 'Zeros',\n",
              "     'config': {'dtype': 'float32'}},\n",
              "    'bias_regularizer': None,\n",
              "    'dtype': 'float32',\n",
              "    'kernel_constraint': None,\n",
              "    'kernel_initializer': {'class_name': 'GlorotUniform',\n",
              "     'config': {'dtype': 'float32', 'seed': None}},\n",
              "    'kernel_regularizer': None,\n",
              "    'name': 'dense_2',\n",
              "    'trainable': True,\n",
              "    'units': 256,\n",
              "    'use_bias': True}},\n",
              "  {'class_name': 'Dropout',\n",
              "   'config': {'dtype': 'float32',\n",
              "    'name': 'dropout_1',\n",
              "    'noise_shape': None,\n",
              "    'rate': 0.2,\n",
              "    'seed': None,\n",
              "    'trainable': True}},\n",
              "  {'class_name': 'Dense',\n",
              "   'config': {'activation': 'softmax',\n",
              "    'activity_regularizer': None,\n",
              "    'bias_constraint': None,\n",
              "    'bias_initializer': {'class_name': 'Zeros',\n",
              "     'config': {'dtype': 'float32'}},\n",
              "    'bias_regularizer': None,\n",
              "    'dtype': 'float32',\n",
              "    'kernel_constraint': None,\n",
              "    'kernel_initializer': {'class_name': 'GlorotUniform',\n",
              "     'config': {'dtype': 'float32', 'seed': None}},\n",
              "    'kernel_regularizer': None,\n",
              "    'name': 'dense_3',\n",
              "    'trainable': True,\n",
              "    'units': 10,\n",
              "    'use_bias': True}}],\n",
              " 'name': 'sequential_1'}"
            ]
          },
          "metadata": {
            "tags": []
          },
          "execution_count": 33
        }
      ]
    },
    {
      "metadata": {
        "id": "4S8FoWQ1Ar_x",
        "colab_type": "code",
        "colab": {
          "base_uri": "https://localhost:8080/",
          "height": 394
        },
        "outputId": "dd7a5cd9-6dfc-4c66-906b-0db86cc6e7f1"
      },
      "cell_type": "code",
      "source": [
        "plt.plot(historico.history['loss'])\n",
        "plt.plot(historico.history['val_loss'])\n",
        "plt.title('Perda por épocas')\n",
        "plt.xlabel('épocas')\n",
        "plt.ylabel('perda')\n",
        "plt.legend(['treino', 'validação'])"
      ],
      "execution_count": 44,
      "outputs": [
        {
          "output_type": "execute_result",
          "data": {
            "text/plain": [
              "<matplotlib.legend.Legend at 0x7f7a3c8d79b0>"
            ]
          },
          "metadata": {
            "tags": []
          },
          "execution_count": 44
        },
        {
          "output_type": "display_data",
          "data": {
            "image/png": "[encoded data removed]",
            "text/plain": [
              "<matplotlib.figure.Figure at 0x7f7a3c8fa5f8>"
            ]
          },
          "metadata": {
            "tags": []
          }
        }
      ]
    },
    {
      "metadata": {
        "id": "Vuve5QcuF4eE",
        "colab_type": "code",
        "outputId": "e7e7d843-b4a8-4906-85ce-82c82efab417",
        "colab": {
          "base_uri": "https://localhost:8080/",
          "height": 35
        }
      },
      "cell_type": "code",
      "source": [
        "vieses_camada_dense = modelo.layers[1].get_weights()[1]\n",
        "vieses_camada_dense.shape"
      ],
      "execution_count": 34,
      "outputs": [
        {
          "output_type": "execute_result",
          "data": {
            "text/plain": [
              "(256,)"
            ]
          },
          "metadata": {
            "tags": []
          },
          "execution_count": 34
        }
      ]
    },
    {
      "metadata": {
        "id": "5lEZYFfHHfrx",
        "colab_type": "code",
        "colab": {}
      },
      "cell_type": "code",
      "source": [
        "vieses_camada_dense_zerados = np.zeros((256,))\n",
        "modelo.layers[1].set_weights(\n",
        "    [pesos_camada_dense_aleatorios, vieses_camada_dense_zerados]\n",
        ")"
      ],
      "execution_count": 0,
      "outputs": []
    },
    {
      "metadata": {
        "id": "4-RqzS88dgk_",
        "colab_type": "text"
      },
      "cell_type": "markdown",
      "source": [
        "Salvando e carregando o modelo treinado"
      ]
    },
    {
      "metadata": {
        "id": "SVjmU41IELzX",
        "colab_type": "code",
        "colab": {}
      },
      "cell_type": "code",
      "source": [
        "modelo.save('modelo.h5')\n",
        "modelo_salvo = load_model('modelo.h5')"
      ],
      "execution_count": 0,
      "outputs": []
    },
    {
      "metadata": {
        "id": "SVxHO3opdnMb",
        "colab_type": "text"
      },
      "cell_type": "markdown",
      "source": [
        "Visualizando as acurácias de treino e validação por época"
      ]
    },
    {
      "metadata": {
        "id": "pNc0JsWZY1Ie",
        "colab_type": "code",
        "outputId": "c66ef35f-daa2-4264-89e2-698b43add822",
        "colab": {
          "base_uri": "https://localhost:8080/",
          "height": 393
        }
      },
      "cell_type": "code",
      "source": [
        "plt.plot(historico.history['acc'])\n",
        "plt.plot(historico.history['val_acc'])\n",
        "plt.title('Acurácia por épocas')\n",
        "plt.xlabel('épocas')\n",
        "plt.ylabel('acurácia')\n",
        "plt.legend(['treino', 'validação'])\n"
      ],
      "execution_count": 11,
      "outputs": [
        {
          "output_type": "execute_result",
          "data": {
            "text/plain": [
              "<matplotlib.legend.Legend at 0x7f7a3e0ed2b0>"
            ]
          },
          "metadata": {
            "tags": []
          },
          "execution_count": 11
        },
        {
          "output_type": "display_data",
          "data": {
            "image/png": "[encoded data removed]",
            "text/plain": [
              "<matplotlib.figure.Figure at 0x7f7a44b28550>"
            ]
          },
          "metadata": {
            "tags": []
          }
        }
      ]
    },
    {
      "metadata": {
        "id": "ZKxkWNawdzZh",
        "colab_type": "text"
      },
      "cell_type": "markdown",
      "source": [
        "Visualizando as perdas de treino e validação por época"
      ]
    },
    {
      "metadata": {
        "id": "2ugG3Vusg_Va",
        "colab_type": "code",
        "outputId": "db7d7d67-d126-448a-87dc-746ca6a1ed80",
        "colab": {
          "base_uri": "https://localhost:8080/",
          "height": 393
        }
      },
      "cell_type": "code",
      "source": [
        "plt.plot(historico.history['loss'])\n",
        "plt.plot(historico.history['val_loss'])\n",
        "plt.title('Perda por épocas')\n",
        "plt.xlabel('épocas')\n",
        "plt.ylabel('perda')\n",
        "plt.legend(['treino', 'validação'])"
      ],
      "execution_count": 12,
      "outputs": [
        {
          "output_type": "execute_result",
          "data": {
            "text/plain": [
              "<matplotlib.legend.Legend at 0x7f7a3e06c9b0>"
            ]
          },
          "metadata": {
            "tags": []
          },
          "execution_count": 12
        },
        {
          "output_type": "display_data",
          "data": {
            "image/png": "[encoded data removed]",
            "text/plain": [
              "<matplotlib.figure.Figure at 0x7f7a3e07a630>"
            ]
          },
          "metadata": {
            "tags": []
          }
        }
      ]
    },
    {
      "metadata": {
        "id": "JFXG1oibd8E8",
        "colab_type": "text"
      },
      "cell_type": "markdown",
      "source": [
        "Testando o modelo e o modelo salvo"
      ]
    },
    {
      "metadata": {
        "id": "I2kLEHPYUdhd",
        "colab_type": "code",
        "outputId": "53f21bd0-c47a-4363-a84b-479bb001a434",
        "colab": {
          "base_uri": "https://localhost:8080/",
          "height": 86
        }
      },
      "cell_type": "code",
      "source": [
        "testes = modelo.predict(imagens_teste)\n",
        "print('resultado teste:', np.argmax(testes[1]))\n",
        "print('número da imagem de teste:', identificacoes_teste[1])\n",
        "\n",
        "testes_modelo_salvo = modelo_salvo.predict(imagens_teste)\n",
        "print('resultado teste modelo salvo:', np.argmax(testes_modelo_salvo[1]))\n",
        "print('número da imagem de teste:', identificacoes_teste[1])"
      ],
      "execution_count": 13,
      "outputs": [
        {
          "output_type": "stream",
          "text": [
            "resultado teste: 2\n",
            "número da imagem de teste: 2\n",
            "resultado teste modelo salvo: 2\n",
            "número da imagem de teste: 2\n"
          ],
          "name": "stdout"
        }
      ]
    },
    {
      "metadata": {
        "id": "U64QMV1GeCUr",
        "colab_type": "text"
      },
      "cell_type": "markdown",
      "source": [
        "Avaliando o modelo"
      ]
    },
    {
      "metadata": {
        "id": "wsbr9WqyXQ2G",
        "colab_type": "code",
        "outputId": "22ab7688-9ff0-4479-f8c9-ff72ca921868",
        "colab": {
          "base_uri": "https://localhost:8080/",
          "height": 68
        }
      },
      "cell_type": "code",
      "source": [
        "perda_teste, acuracia_teste = modelo.evaluate(imagens_teste, identificacoes_teste)\n",
        "print('Perda do teste:', perda_teste)\n",
        "print('Acurácia do teste:', acuracia_teste)"
      ],
      "execution_count": 14,
      "outputs": [
        {
          "output_type": "stream",
          "text": [
            "10000/10000 [==============================] - 0s 36us/step\n",
            "Perda do teste: 2.180157678174971\n",
            "Acurácia do teste: 0.8623\n"
          ],
          "name": "stdout"
        }
      ]
    }
  ]
}
